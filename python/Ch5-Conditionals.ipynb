{
 "cells": [
  {
   "cell_type": "markdown",
   "metadata": {},
   "source": [
    "# Control Structure\n",
    "## Conditionals\n",
    "Conditional statements controls the flow of codes; makes certail lines to skip or execute based on some conditions; loosely speaking, it helps computer think and make decision.\n",
    "- Boolean values - True or False\n",
    "- Boolean expressions - comparison operators are used to compare values that result in True or False value."
   ]
  },
  {
   "cell_type": "code",
   "execution_count": 1,
   "metadata": {},
   "outputs": [
    {
     "name": "stdout",
     "output_type": "stream",
     "text": [
      "False\n",
      "True\n",
      "False\n",
      "True\n",
      "True\n",
      "False\n"
     ]
    }
   ],
   "source": [
    "# Examples of various comparison operators\n",
    "# x == y True if x is equal to y\n",
    "# x != y True if x is not equal to y\n",
    "# x > y True if x is greater than y\n",
    "# x < y True if x is less than y\n",
    "# x >= y True if x is greater than or equal to y\n",
    "# x <= y True if x is less than or equal to y\n",
    "x = 5\n",
    "y = 10\n",
    "print(x==y)\n",
    "print(x!=y)\n",
    "print(x>y)\n",
    "print(x<y)\n",
    "print(x<=y)\n",
    "print(x>=y)"
   ]
  },
  {
   "cell_type": "markdown",
   "metadata": {},
   "source": [
    "## Logical Operators\n",
    "** and, or, ** and ** not ** -- allow to build more complex boolean expressions <br >\n",
    "**Truth table for *and* ** <br>\n",
    "<pre>\n",
    "a  b  a and b\n",
    "T  T   T\n",
    "T  F   F\n",
    "F  F   F\n",
    "F  T   F\n",
    "</pre>\n",
    "\n",
    "**Truth table for *or* ** <br>\n",
    "<pre>\n",
    "a  b  a or b\n",
    "T  T   T\n",
    "T  F   T\n",
    "F  T   T\n",
    "F  F   F\n",
    "\n",
    "** not operator **\n",
    "not True -> False\n",
    "not False -> True\n",
    "</pre>\n",
    "Order of Operations Highest to Lowest: <br>\n",
    "http://www.informit.com/articles/article.aspx?p=459269&seqNum=11"
   ]
  },
  {
   "cell_type": "code",
   "execution_count": 5,
   "metadata": {},
   "outputs": [
    {
     "name": "stdout",
     "output_type": "stream",
     "text": [
      "True\n"
     ]
    }
   ],
   "source": [
    "a = True\n",
    "b = False\n",
    "print(not(a and b) or (a or b))"
   ]
  },
  {
   "cell_type": "markdown",
   "metadata": {},
   "source": [
    "## Conditional Execution"
   ]
  },
  {
   "cell_type": "raw",
   "metadata": {},
   "source": [
    "One way selector:\n",
    "Syntax:\n",
    "if \"boolean expression evaluates to True\":\n",
    "    # execute this block of code\n",
    "    \n",
    "Two way selector:\n",
    "Syntax:\n",
    "if \"boolean exprn evaluates to True\":\n",
    "    # execute if block\n",
    "else:\n",
    "    # execute else block\n",
    "    \n",
    "Multi way selector:\n",
    "Syntax:\n",
    "if \"True Exprn\":\n",
    "    # do this\n",
    "elif \"True\":\n",
    "    # do this\n",
    "...\n",
    "...\n",
    "else:\n",
    "    # do this\n",
    "\n",
    "- Nested conditionals"
   ]
  },
  {
   "cell_type": "code",
   "execution_count": 7,
   "metadata": {},
   "outputs": [
    {
     "name": "stdout",
     "output_type": "stream",
     "text": [
      "do not go to school\n"
     ]
    }
   ],
   "source": [
    "health = 'sick'\n",
    "weather = 'sunny'\n",
    "if (health == 'sick' or weather == 'snowy'):\n",
    "    print('do not go to school')\n",
    "else:\n",
    "    print('go to school')"
   ]
  },
  {
   "cell_type": "markdown",
   "metadata": {},
   "source": [
    "## Exercises\n",
    "1. Write a program to test whether a given whole number is even, odd or zero"
   ]
  },
  {
   "cell_type": "code",
   "execution_count": 8,
   "metadata": {},
   "outputs": [
    {
     "name": "stdout",
     "output_type": "stream",
     "text": [
      "Enter a whole number:1353535350\n",
      "1353535350 is even\n",
      "Good bye\n"
     ]
    }
   ],
   "source": [
    "x = int(input('Enter a whole number:' ))\n",
    "#x = int(x)\n",
    "if x == 0:\n",
    "    print(x, 'is zero')\n",
    "elif x%2 == 0:\n",
    "    print(x, 'is even')\n",
    "else:\n",
    "    print(x, 'is odd')\n",
    "    \n",
    "print('Good bye')"
   ]
  },
  {
   "cell_type": "code",
   "execution_count": 2,
   "metadata": {},
   "outputs": [],
   "source": [
    "# write a function that determines whether a given \n",
    "# integer number is zero, even or odd\n",
    "def isZeroEvenOrOdd(num):\n",
    "    if num == 0:\n",
    "        return 'zero'\n",
    "    elif num %2 == 0:\n",
    "        return 'even'\n",
    "    else:\n",
    "        return 'odd'\n",
    "    "
   ]
  },
  {
   "cell_type": "code",
   "execution_count": 3,
   "metadata": {},
   "outputs": [],
   "source": [
    "# define a function that determines whethere a \n",
    "# given integer is positive or negative\n",
    "def isPosOrNeg(num):\n",
    "    if num < 0:\n",
    "        return 'negative'\n",
    "    else:\n",
    "        return 'positive'"
   ]
  },
  {
   "cell_type": "code",
   "execution_count": 16,
   "metadata": {},
   "outputs": [],
   "source": [
    "def main():\n",
    "    n = int(input('Enter a number'))\n",
    "    #answer = isZeroEvenOrOdd(n)\n",
    "    ans = isZeroEvenOrOdd(n)\n",
    "    print(ans)\n",
    "    if ans != 'zero':\n",
    "        print(isPosOrNeg(n))\n"
   ]
  },
  {
   "cell_type": "code",
   "execution_count": 17,
   "metadata": {},
   "outputs": [
    {
     "name": "stdout",
     "output_type": "stream",
     "text": [
      "Enter a number45450\n",
      "even\n",
      "positive\n"
     ]
    }
   ],
   "source": [
    "main()"
   ]
  },
  {
   "cell_type": "code",
   "execution_count": 21,
   "metadata": {},
   "outputs": [],
   "source": [
    "def test():\n",
    "    x = -454545\n",
    "    ans = isPosOrNeg(x)\n",
    "    actual = 'negative'\n",
    "    assert ans == actual\n",
    "    print('all test cases passed...')\n",
    "    "
   ]
  },
  {
   "cell_type": "code",
   "execution_count": 22,
   "metadata": {},
   "outputs": [
    {
     "name": "stdout",
     "output_type": "stream",
     "text": [
      "all test cases passed...\n"
     ]
    }
   ],
   "source": [
    "test()"
   ]
  },
  {
   "cell_type": "markdown",
   "metadata": {
    "collapsed": true
   },
   "source": [
    "2. Improve the above program to tell whether the given whole number is positive or negative."
   ]
  },
  {
   "cell_type": "markdown",
   "metadata": {},
   "source": [
    "3. Write a program that determines whether someone is eligible to vote in the US federal election."
   ]
  },
  {
   "cell_type": "code",
   "execution_count": 25,
   "metadata": {},
   "outputs": [
    {
     "name": "stdout",
     "output_type": "stream",
     "text": [
      "Enter your age:19\n",
      "Are you a US citizen: [y/n]n\n",
      "You are NOT elgible to vote\n"
     ]
    }
   ],
   "source": [
    "age = int(input('Enter your age:'))\n",
    "USCitizen = input('Are you a US citizen: [y/n]')\n",
    "if (USCitizen == 'y'):\n",
    "    if (age >= 18):\n",
    "        print('You are eligible to vote!')\n",
    "    else:\n",
    "        print('You are NOT elgible to vote')\n",
    "else:\n",
    "    print('You are NOT elgible to vote')"
   ]
  },
  {
   "cell_type": "code",
   "execution_count": 1,
   "metadata": {},
   "outputs": [],
   "source": [
    "\n",
    "def elgiblibeToVote(age, USCitizen):\n",
    "    flag = False\n",
    "    if USCitizen == 'y':\n",
    "        if age >= 18:\n",
    "            #return True\n",
    "            flag = True\n",
    "            \n",
    "    return flag\n"
   ]
  },
  {
   "cell_type": "code",
   "execution_count": 4,
   "metadata": {},
   "outputs": [
    {
     "name": "stdout",
     "output_type": "stream",
     "text": [
      "Enter your age:100\n",
      "Are you a US citizen: [y/n]n\n",
      "You are NOT elgible to vote\n"
     ]
    }
   ],
   "source": [
    "age = int(input('Enter your age:'))\n",
    "USCitizen = input('Are you a US citizen: [y/n]')\n",
    "ans = elgiblibeToVote(age, USCitizen)\n",
    "if ans:\n",
    "    print('You are eligible to vote!')\n",
    "else:\n",
    "    print('You are NOT elgible to vote')"
   ]
  },
  {
   "cell_type": "markdown",
   "metadata": {},
   "source": [
    "4. Write a program that helps someone decide where to go eat lunch depending on amount of money one has in their pocket."
   ]
  },
  {
   "cell_type": "code",
   "execution_count": 10,
   "metadata": {},
   "outputs": [
    {
     "name": "stdout",
     "output_type": "stream",
     "text": [
      "How much money do you have?1\n",
      "Sorry no lunch!\n"
     ]
    }
   ],
   "source": [
    "money = float(input(\"How much money do you have?\"))\n",
    "if money >= 2 and money <= 5:\n",
    "    print('Go to Taco Bell')\n",
    "elif money > 5 and money <= 10:\n",
    "    print('Go to subway')\n",
    "elif money > 10:\n",
    "    print('Go to ChickFilA')\n",
    "else:\n",
    "    print('Sorry no lunch!')"
   ]
  },
  {
   "cell_type": "markdown",
   "metadata": {},
   "source": [
    "5. Given a day of week as integer (say 1 for Sunday) write a program that tells whether that day is weekend, or weekday and the actual name of the day."
   ]
  },
  {
   "cell_type": "code",
   "execution_count": 12,
   "metadata": {},
   "outputs": [
    {
     "name": "stdout",
     "output_type": "stream",
     "text": [
      "Enter day 1-7 of week:7\n",
      "Saturday; weekend\n"
     ]
    }
   ],
   "source": [
    "day = int(input(\"Enter day 1-7 of week:\"))\n",
    "if day == 1:\n",
    "    print('Sunday; weekend')\n",
    "elif day == 2:\n",
    "    print('Monday; weekday')\n",
    "elif day == 3:\n",
    "    print('Tuesday; weekday')\n",
    "elif day == 4:\n",
    "    print('Wednesday; weekday')\n",
    "elif day == 5:\n",
    "    print('Thursday; weekday')\n",
    "elif day == 6:\n",
    "    print('Friday; weekday')\n",
    "elif day == 7:\n",
    "    print('Saturday; weekend')\n",
    "else:\n",
    "    print('Not a day of week!')"
   ]
  },
  {
   "cell_type": "code",
   "execution_count": null,
   "metadata": {},
   "outputs": [],
   "source": []
  }
 ],
 "metadata": {
  "kernelspec": {
   "display_name": "Python 3",
   "language": "python",
   "name": "python3"
  },
  "language_info": {
   "codemirror_mode": {
    "name": "ipython",
    "version": 3
   },
   "file_extension": ".py",
   "mimetype": "text/x-python",
   "name": "python",
   "nbconvert_exporter": "python",
   "pygments_lexer": "ipython3",
   "version": "3.6.2"
  }
 },
 "nbformat": 4,
 "nbformat_minor": 2
}
